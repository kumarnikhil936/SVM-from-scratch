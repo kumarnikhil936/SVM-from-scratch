{
 "cells": [
  {
   "cell_type": "code",
   "execution_count": 128,
   "metadata": {},
   "outputs": [],
   "source": [
    "import numpy as np\n",
    "import matplotlib.pyplot as plt\n",
    "from cvxopt import matrix, solvers\n",
    "np.random.seed(101)"
   ]
  },
  {
   "cell_type": "code",
   "execution_count": 129,
   "metadata": {},
   "outputs": [],
   "source": [
    "def fit(x, y, c=0.):\n",
    "    \n",
    "    n_samples = x.shape[0]\n",
    "    n_features = x.shape[1]\n",
    "    \n",
    "    # Create the kernel matrix\n",
    "    K = y[:, None] * x\n",
    "    K = np.dot(K, K.T)\n",
    "    \n",
    "    P = matrix(K)\n",
    "    q = matrix(-np.ones((n_samples, 1)))\n",
    "\n",
    "    # Hard margin :: -a_i <= 0  or (a_i >= 0)\n",
    "    G_hard = matrix(-np.eye(n_samples))\n",
    "    h_hard = matrix(np.zeros(n_samples))\n",
    "    \n",
    "    if (c != 0.):\n",
    "        # slack :: a_i <= c\n",
    "        G_slack = matrix(np.eye(n_samples))\n",
    "        h_slack = matrix(np.ones(n_samples) * c)\n",
    "        \n",
    "        # stack vertically the g and h matrices respectively\n",
    "        G = matrix(np.vstack((G_hard, G_slack)))\n",
    "        h = matrix(np.vstack((h_hard, h_slack)))\n",
    "        \n",
    "    A = matrix(y.reshape(1, -1))\n",
    "    b = matrix(np.zeros(1))\n",
    "    \n",
    "    solvers.options['show_progress'] = False\n",
    "    \n",
    "    # solve min (1/2 * x^T * P * x + q^T * x) s.t. (G * x <= h) and (A * x = b)\n",
    "        # P = H a matrix of size m×m\n",
    "        # q = −1  a vector of size m×1\n",
    "        # G = −diag[1] a diagonal matrix of -1s of size m×m\n",
    "        # h = 0 a vector of zeros of size m×1\n",
    "        # A = y the label vector of size m×1\n",
    "        # b = 0 a scalar\n",
    "        \n",
    "    if (c == 0.):\n",
    "        sol = solvers.qp(P, q, G_hard, h_hard, A, b)\n",
    "    else:\n",
    "        sol = solvers.qp(P, q, G, h, A, b)\n",
    "    \n",
    "    # sol = solvers.qp(P, q, G, h, A, b)\n",
    "    \n",
    "    alphas = np.array(sol['x'])\n",
    "    \n",
    "    return alphas"
   ]
  },
  {
   "cell_type": "code",
   "execution_count": 130,
   "metadata": {},
   "outputs": [],
   "source": [
    "def plot_data_with_labels(x, y, ax):\n",
    "    unique = np.unique(y)\n",
    "    \n",
    "    for li in range(len(unique)):\n",
    "        x_sub = x[y == unique[li]]\n",
    "        ax.scatter(x_sub[:, 0], x_sub[:, 1], c = COLORS[li])"
   ]
  },
  {
   "cell_type": "code",
   "execution_count": 186,
   "metadata": {},
   "outputs": [],
   "source": [
    "def plot_separator(ax, w, b, xmax, xmin):\n",
    "    slope = -w[0] / w[1]\n",
    "    intercept = -b / w[1]\n",
    "    \n",
    "    x = np.arange(xmin, xmax)\n",
    "    \n",
    "    ax.plot(x, x * slope + intercept, 'g--')"
   ]
  },
  {
   "cell_type": "code",
   "execution_count": 187,
   "metadata": {},
   "outputs": [],
   "source": [
    "def generate_data(n_samples=4, n_features=2):\n",
    "    \n",
    "    # 2-D mean of ones\n",
    "    mean1 = np.ones((n_features,))\n",
    "    # 2-D mean of threes\n",
    "    mean2 = 3 * np.ones((n_features,))\n",
    "\n",
    "    # 2-D covariance of 0.3\n",
    "    covar1 = np.diag(0.3 * np.ones((n_features,)))\n",
    "    # 2-D covariance of 0.2\n",
    "    covar2 = np.diag(0.2 * np.ones((n_features,)))\n",
    "\n",
    "    # generate points from gaussian 1\n",
    "    x1 = np.random.multivariate_normal(mean1, covar1, n_samples)\n",
    "    # labels\n",
    "    y1 = np.ones((x1.shape[0],))\n",
    "\n",
    "    # generate points from gaussian 2\n",
    "    x2 = np.random.multivariate_normal(mean2, covar2, n_samples)\n",
    "    y2 = -np.ones((x2.shape[0],))\n",
    "\n",
    "    # join\n",
    "    x = np.concatenate((x1, x2), axis = 0)\n",
    "    y = np.concatenate((y1, y2), axis = 0)\n",
    "\n",
    "    return x, y"
   ]
  },
  {
   "cell_type": "code",
   "execution_count": 188,
   "metadata": {},
   "outputs": [
    {
     "data": {
      "image/png": "[encoded data removed]",
      "text/plain": [
       "<Figure size 432x288 with 1 Axes>"
      ]
     },
     "metadata": {},
     "output_type": "display_data"
    }
   ],
   "source": [
    "x, y = generate_data(4, 2)\n",
    "\n",
    "# fit svm classifier\n",
    "alphas = fit(x, y)\n",
    "# print(alphas)\n",
    "\n",
    "# only a few of the alphas should be non-zero & they will be the support vectors.\n",
    "index = (alphas > 1e-5).reshape(-1)\n",
    "\n",
    "# w  is equal to Σαi*yi*xi \n",
    "# get weights\n",
    "w = np.sum(alphas[index] * y[index, None] * x[index], axis = 0)\n",
    "\n",
    "# get bias\n",
    "# b is equal to yi−w.T*xi for any i such that αi>0.\n",
    "b = y[index] - np.dot(x[index], w)\n",
    "bias = b[0]\n",
    "\n",
    "# normalize\n",
    "norm = np.linalg.norm(w)\n",
    "\n",
    "# w, bias = w / norm, bias / norm\n",
    "\n",
    "# print('x {} y {}'.format(x.shape, y.shape))\n",
    "\n",
    "fig, ax = plt.subplots()\n",
    "\n",
    "# show data and w\n",
    "plot_separator(ax, w, bias, x.max()+1, x.min()-1)\n",
    "plot_data_with_labels(x, y, ax)\n",
    "plt.show()"
   ]
  },
  {
   "cell_type": "code",
   "execution_count": null,
   "metadata": {},
   "outputs": [],
   "source": []
  },
  {
   "cell_type": "code",
   "execution_count": null,
   "metadata": {},
   "outputs": [],
   "source": []
  }
 ],
 "metadata": {
  "kernelspec": {
   "display_name": "Python 3",
   "language": "python",
   "name": "python3"
  },
  "language_info": {
   "codemirror_mode": {
    "name": "ipython",
    "version": 3
   },
   "file_extension": ".py",
   "mimetype": "text/x-python",
   "name": "python",
   "nbconvert_exporter": "python",
   "pygments_lexer": "ipython3",
   "version": "3.6.3"
  }
 },
 "nbformat": 4,
 "nbformat_minor": 2
}
